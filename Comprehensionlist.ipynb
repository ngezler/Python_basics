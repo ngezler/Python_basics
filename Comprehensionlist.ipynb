{
 "cells": [
  {
   "cell_type": "code",
   "execution_count": 8,
   "metadata": {},
   "outputs": [
    {
     "name": "stdout",
     "output_type": "stream",
     "text": [
      "[1, 4, 9, 16, 25, 36, 49, 64, 81, 100, 121, 144, 169, 196, 225, 256, 289, 324, 361, 400, 441, 484, 529, 576, 625, 676, 729, 784, 841, 900, 961, 1024, 1089, 1156, 1225, 1296, 1369, 1444, 1521, 1600, 1681, 1764, 1849, 1936, 2025, 2116, 2209, 2304, 2401, 2500, 2601, 2704, 2809, 2916, 3025, 3136, 3249, 3364, 3481, 3600, 3721, 3844, 3969, 4096, 4225, 4356, 4489, 4624, 4761, 4900, 5041, 5184, 5329, 5476, 5625, 5776, 5929, 6084, 6241, 6400, 6561, 6724, 6889, 7056, 7225, 7396, 7569, 7744, 7921, 8100, 8281, 8464, 8649, 8836, 9025, 9216, 9409, 9604, 9801, 10000]\n"
     ]
    }
   ],
   "source": [
    "lis = []\n",
    "for i in range(1,101):\n",
    "    lis.append(i**2)\n",
    "print(lis)"
   ]
  },
  {
   "cell_type": "code",
   "execution_count": 9,
   "metadata": {},
   "outputs": [
    {
     "name": "stdout",
     "output_type": "stream",
     "text": [
      "[1, 4, 9, 16, 25, 36, 49, 64, 81, 100, 121, 144, 169, 196, 225, 256, 289, 324, 361, 400, 441, 484, 529, 576, 625, 676, 729, 784, 841, 900, 961, 1024, 1089, 1156, 1225, 1296, 1369, 1444, 1521, 1600, 1681, 1764, 1849, 1936, 2025, 2116, 2209, 2304, 2401, 2500, 2601, 2704, 2809, 2916, 3025, 3136, 3249, 3364, 3481, 3600, 3721, 3844, 3969, 4096, 4225, 4356, 4489, 4624, 4761, 4900, 5041, 5184, 5329, 5476, 5625, 5776, 5929, 6084, 6241, 6400, 6561, 6724, 6889, 7056, 7225, 7396, 7569, 7744, 7921, 8100, 8281, 8464, 8649, 8836, 9025, 9216, 9409, 9604, 9801, 10000]\n"
     ]
    }
   ],
   "source": [
    "# list = [expression, forloop condition, optional test case(if)]\n",
    "lis2 = [i**2 for i in range(1,101)]\n",
    "print(lis2)"
   ]
  },
  {
   "cell_type": "code",
   "execution_count": 12,
   "metadata": {},
   "outputs": [
    {
     "name": "stdout",
     "output_type": "stream",
     "text": [
      "[1, 4, 4, 1, 0, 1, 4, 4, 1, 0, 1, 4, 4, 1, 0, 1, 4, 4, 1, 0, 1, 4, 4, 1, 0, 1, 4, 4, 1, 0, 1, 4, 4, 1, 0, 1, 4, 4, 1, 0, 1, 4, 4, 1, 0, 1, 4, 4, 1, 0, 1, 4, 4, 1, 0, 1, 4, 4, 1, 0, 1, 4, 4, 1, 0, 1, 4, 4, 1, 0, 1, 4, 4, 1, 0, 1, 4, 4, 1, 0, 1, 4, 4, 1, 0, 1, 4, 4, 1, 0, 1, 4, 4, 1, 0, 1, 4, 4, 1, 0]\n"
     ]
    }
   ],
   "source": [
    "#list of remeiders when you dived the first 100 values by 5\n",
    "remainder5 = [x**2 % 5 for x in range(1, 101)]\n",
    "print(remainder5)"
   ]
  },
  {
   "cell_type": "code",
   "execution_count": 13,
   "metadata": {},
   "outputs": [
    {
     "name": "stdout",
     "output_type": "stream",
     "text": [
      "[1, 4, 9, 5, 3, 3, 5, 9, 4, 1, 0, 1, 4, 9, 5, 3, 3, 5, 9, 4, 1, 0, 1, 4, 9, 5, 3, 3, 5, 9, 4, 1, 0, 1, 4, 9, 5, 3, 3, 5, 9, 4, 1, 0, 1, 4, 9, 5, 3, 3, 5, 9, 4, 1, 0, 1, 4, 9, 5, 3, 3, 5, 9, 4, 1, 0, 1, 4, 9, 5, 3, 3, 5, 9, 4, 1, 0, 1, 4, 9, 5, 3, 3, 5, 9, 4, 1, 0, 1, 4, 9, 5, 3, 3, 5, 9, 4, 1, 0, 1]\n"
     ]
    }
   ],
   "source": [
    "#perfect square mod 11\n",
    "remainder11 = [x**2 % 11 for x in range(1, 101)]\n",
    "print(remainder11)"
   ]
  },
  {
   "cell_type": "code",
   "execution_count": 38,
   "metadata": {},
   "outputs": [],
   "source": [
    "#comp list with f fir\n",
    "movies = [\"Star Wars\", \"Gandhi\", \"Casablanca\", \"Shawshank Redeption\", \"Toy Story\", \n",
    "          \"Gone with the winds\", \"Citizen Kane\", \"It's a wonderfullife\",\n",
    "          \"the Wizard oll hunting\", \"Gostbuster\", \"Gattaca\", \"Close Encounter\"]"
   ]
  },
  {
   "cell_type": "code",
   "execution_count": 29,
   "metadata": {},
   "outputs": [
    {
     "name": "stdout",
     "output_type": "stream",
     "text": [
      "['Gone with the winds', 'Gostbuster', 'Gattaca']\n"
     ]
    }
   ],
   "source": [
    "#append to the list movies that start with a g\n",
    "gmovies =  []\n",
    "\n",
    "for title in movies:\n",
    "    if title.startswith(\"G\"):\n",
    "        gmovies.append(title)\n",
    "print(gmovies)"
   ]
  },
  {
   "cell_type": "code",
   "execution_count": 41,
   "metadata": {},
   "outputs": [
    {
     "name": "stdout",
     "output_type": "stream",
     "text": [
      "['Gandhi', 'Gone with the winds', 'Gostbuster', 'Gattaca']\n"
     ]
    }
   ],
   "source": [
    "#same solution with comprehension list single line of code\n",
    "gmovies = [title for title in movies if title.startswith(\"G\")]\n",
    "print(gmovies)"
   ]
  },
  {
   "cell_type": "code",
   "execution_count": null,
   "metadata": {},
   "outputs": [],
   "source": []
  },
  {
   "cell_type": "code",
   "execution_count": 43,
   "metadata": {},
   "outputs": [],
   "source": [
    "#working with dictionary list\n",
    "movies = [(\"Star Wars\", 2001), (\"Gandhi\", 2002), (\"Casablanca\", 1998), (\"Shawshank Redeption\",2005), (\"Toy Story\",1997), \n",
    "          (\"Gone with the winds\", 1994), (\"Citizen Kane\", 2010), (\"It's a wonderfullife\", 2011),\n",
    "          (\"the Wizard oll hunting\", 2016), (\"Gostbuster\", 1985), (\"Gattaca\", 2007), (\"Close Encounter\", 2018)]"
   ]
  },
  {
   "cell_type": "code",
   "execution_count": 48,
   "metadata": {},
   "outputs": [
    {
     "name": "stdout",
     "output_type": "stream",
     "text": [
      "['Casablanca', 'Toy Story', 'Gone with the winds', 'Gostbuster']\n"
     ]
    }
   ],
   "source": [
    "#long method of finding movies before 2000\n",
    "bmovies = []\n",
    "\n",
    "for (title,year) in movies:\n",
    "    if year < 2000:\n",
    "        bmovies.append(title)\n",
    "print(bmovies)"
   ]
  },
  {
   "cell_type": "code",
   "execution_count": 49,
   "metadata": {},
   "outputs": [],
   "source": [
    "#solving the same problem with comprehension lists\n",
    "#working with dictionary list\n",
    "movies = [(\"Star Wars\", 2001), (\"Gandhi\", 2002), (\"Casablanca\", 1998), (\"Shawshank Redeption\",2005), (\"Toy Story\",1997), \n",
    "          (\"Gone with the winds\", 1994), (\"Citizen Kane\", 2010), (\"It's a wonderfullife\", 2011),\n",
    "          (\"the Wizard oll hunting\", 2016), (\"Gostbuster\", 1985), (\"Gattaca\", 2007), (\"Close Encounter\", 2018)]"
   ]
  },
  {
   "cell_type": "code",
   "execution_count": 52,
   "metadata": {},
   "outputs": [
    {
     "name": "stdout",
     "output_type": "stream",
     "text": [
      "['Casablanca', 'Toy Story', 'Gone with the winds', 'Gostbuster']\n"
     ]
    }
   ],
   "source": [
    "bmovies = [title for title,year in movies if year < 2000]\n",
    "print(bmovies)"
   ]
  },
  {
   "cell_type": "code",
   "execution_count": null,
   "metadata": {},
   "outputs": [],
   "source": []
  },
  {
   "cell_type": "code",
   "execution_count": 63,
   "metadata": {},
   "outputs": [
    {
     "name": "stdout",
     "output_type": "stream",
     "text": [
      "[2, -3, 1]\n"
     ]
    }
   ],
   "source": [
    "#Scalaer Multiplication best way to solve this is us comprehension l;is\n",
    "# muiltiply each value of the list by 4\n",
    "u  =  [2, -3, 1]\n",
    "\n",
    "w =  [4*x for x in u]\n",
    "print(w)"
   ]
  },
  {
   "cell_type": "code",
   "execution_count": 64,
   "metadata": {},
   "outputs": [
    {
     "name": "stdout",
     "output_type": "stream",
     "text": [
      "[8, -12, 4]\n"
     ]
    }
   ],
   "source": []
  },
  {
   "cell_type": "code",
   "execution_count": 66,
   "metadata": {},
   "outputs": [
    {
     "name": "stdout",
     "output_type": "stream",
     "text": [
      "[(1, 2), (1, 4), (1, 6), (1, 8), (3, 2), (3, 4), (3, 6), (3, 8), (5, 2), (5, 4), (5, 6), (5, 8), (7, 2), (7, 4), (7, 6), (7, 8)]\n"
     ]
    }
   ],
   "source": [
    "#computing the Cartisian product of two sets you can complete the cartisian for 3 or more sets\n",
    "\n",
    "A = [1, 3, 5, 7]\n",
    "B = [2, 4, 6, 8]\n",
    "\n",
    "cartisian_product = [(a,b) for a in A for b in B]\n",
    "print(cartisian_product)"
   ]
  }
 ],
 "metadata": {
  "kernelspec": {
   "display_name": "Python 3",
   "language": "python",
   "name": "python3"
  },
  "language_info": {
   "codemirror_mode": {
    "name": "ipython",
    "version": 3
   },
   "file_extension": ".py",
   "mimetype": "text/x-python",
   "name": "python",
   "nbconvert_exporter": "python",
   "pygments_lexer": "ipython3",
   "version": "3.7.1"
  }
 },
 "nbformat": 4,
 "nbformat_minor": 2
}
